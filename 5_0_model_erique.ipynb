{
  "nbformat": 4,
  "nbformat_minor": 0,
  "metadata": {
    "colab": {
      "name": "5.0_model_erique.ipynb",
      "provenance": [],
      "mount_file_id": "1s5ow0HM3n-zb5zr4S9ipTYXgjaclK8w2",
      "authorship_tag": "ABX9TyMg7+KWDXXdEbkh4Gp9gcQo",
      "include_colab_link": true
    },
    "kernelspec": {
      "name": "python3",
      "display_name": "Python 3"
    },
    "language_info": {
      "name": "python"
    }
  },
  "cells": [
    {
      "cell_type": "markdown",
      "metadata": {
        "id": "view-in-github",
        "colab_type": "text"
      },
      "source": [
        "<a href=\"https://colab.research.google.com/github/grjadhav409/MCF7-inhibitors-prediction-using-ML/blob/main/5_0_model_erique.ipynb\" target=\"_parent\"><img src=\"https://colab.research.google.com/assets/colab-badge.svg\" alt=\"Open In Colab\"/></a>"
      ]
    },
    {
      "cell_type": "markdown",
      "metadata": {
        "id": "6EHm6Zrv0fFw"
      },
      "source": [
        "# **Import Libraries**"
      ]
    },
    {
      "cell_type": "code",
      "source": [
        "from google.colab import drive\n",
        "drive.mount('/content/drive')"
      ],
      "metadata": {
        "colab": {
          "base_uri": "https://localhost:8080/"
        },
        "id": "3fZjBghm2Hqo",
        "outputId": "da72dc91-ccee-42fd-e645-cd9c48987992"
      },
      "execution_count": null,
      "outputs": [
        {
          "output_type": "stream",
          "name": "stdout",
          "text": [
            "Drive already mounted at /content/drive; to attempt to forcibly remount, call drive.mount(\"/content/drive\", force_remount=True).\n"
          ]
        }
      ]
    },
    {
      "cell_type": "code",
      "execution_count": null,
      "metadata": {
        "id": "RR6e09Wv0fFx"
      },
      "outputs": [],
      "source": [
        "# Data Handling\n",
        "import pandas as pd\n",
        "import numpy as np\n",
        "#from chembl_webresource_client.new_client import new_client\n",
        "from scipy import stats\n",
        "import os\n",
        "import glob\n",
        "import datetime as dt\n",
        "\n",
        "# Plotting\n",
        "import matplotlib.pyplot as plt\n",
        "from matplotlib import cm \n",
        "import seaborn as sns\n",
        "from IPython.display import Image\n",
        "import plotly\n",
        "import plotly.express as px\n",
        "import plotly.graph_objects as go\n",
        "\"\"\"\n",
        "# Lipinski Descriptors rdkit\n",
        "! wget https://repo.anaconda.com/miniconda/Miniconda3-py37_4.8.2-Linux-x86_64.sh\n",
        "! chmod +x Miniconda3-py37_4.8.2-Linux-x86_64.sh\n",
        "! bash ./Miniconda3-py37_4.8.2-Linux-x86_64.sh -b -f -p /usr/local\n",
        "! conda install -c rdkit rdkit -y\n",
        "import sys\n",
        "sys.path.append('/usr/local/lib/python3.7/site-packages/')\n",
        "from rdkit import Chem\n",
        "from rdkit.Chem import Descriptors, Lipinski\n",
        "\"\"\"\n",
        "# Splitting data\n",
        "from sklearn.model_selection import train_test_split\n",
        "from sklearn.model_selection import StratifiedShuffleSplit\n",
        "\n",
        "# Data preprocessing\n",
        "from sklearn.feature_selection import VarianceThreshold\n",
        "\n",
        "# Modeling\n",
        "from sklearn.linear_model import LinearRegression\n",
        "from sklearn.linear_model import Lasso\n",
        "from sklearn.linear_model import ElasticNet\n",
        "from sklearn.tree import DecisionTreeRegressor\n",
        "from sklearn.ensemble import RandomForestRegressor\n",
        "from sklearn.neighbors import KNeighborsRegressor\n",
        "from sklearn.naive_bayes import GaussianNB\n",
        "from sklearn.svm import SVR\n",
        "from sklearn.ensemble import RandomForestRegressor\n",
        "from sklearn.ensemble import GradientBoostingRegressor\n",
        "from sklearn.ensemble import ExtraTreesRegressor\n",
        "from sklearn.ensemble import AdaBoostRegressor\n",
        "import xgboost as xgb\n",
        "\n",
        "# Assesing model performance\n",
        "from sklearn import metrics\n",
        "from sklearn.metrics import SCORERS\n",
        "from sklearn.model_selection import cross_val_score\n",
        "\n",
        "# Tunning\n",
        "from sklearn.model_selection import KFold\n",
        "from sklearn.model_selection import GridSearchCV\n",
        "\n",
        "# Ignore Warnings\n",
        "import warnings\n",
        "warnings.filterwarnings(\"ignore\")\n",
        "warnings.filterwarnings(\"ignore\", category=DeprecationWarning) \n",
        "\n",
        "# Library to render the pyplots on github\n",
        "\n",
        "import plotly.io as pio\n"
      ]
    },
    {
      "cell_type": "markdown",
      "metadata": {
        "id": "aIvCUnMy0fGU"
      },
      "source": [
        "# 5. Model Building"
      ]
    },
    {
      "cell_type": "markdown",
      "metadata": {
        "id": "YqeUJhOR0fGU"
      },
      "source": [
        "**5.1 Data Split**"
      ]
    },
    {
      "cell_type": "code",
      "source": [
        "import pandas as pd"
      ],
      "metadata": {
        "id": "BvbiN8jA9HTB"
      },
      "execution_count": null,
      "outputs": []
    },
    {
      "cell_type": "code",
      "execution_count": null,
      "metadata": {
        "id": "m4EjpnOX0fGV"
      },
      "outputs": [],
      "source": [
        "# feature selection\n",
        "#selection = VarianceThreshold(threshold=(.8 * (1 - .8)))    \n",
        "#X = selection.fit_transform(X)"
      ]
    },
    {
      "cell_type": "code",
      "execution_count": null,
      "metadata": {
        "id": "cSyww9OW0fGW"
      },
      "outputs": [],
      "source": [
        "data = pd.read_csv(\"/content/drive/MyDrive/Colab Notebooks/drug discovery/MCF7/data/X_rdkit.csv\")"
      ]
    },
    {
      "cell_type": "code",
      "source": [
        "X = data.loc[:, ~data.columns.str.contains('^Unnamed')]\n"
      ],
      "metadata": {
        "id": "R3VAJ1ci9a5d"
      },
      "execution_count": null,
      "outputs": []
    },
    {
      "cell_type": "code",
      "execution_count": null,
      "metadata": {
        "id": "YtAZxxuf0fGX",
        "outputId": "ca71712c-74f9-4359-fa2c-cebcbde576d2",
        "colab": {
          "base_uri": "https://localhost:8080/",
          "height": 423
        }
      },
      "outputs": [
        {
          "output_type": "execute_result",
          "data": {
            "text/plain": [
              "               0         1          2         3         4        5        6  \\\n",
              "0      13.182830 -0.476693  13.182830  0.055287  0.201967  549.547  526.363   \n",
              "1      13.199973 -0.440714  13.199973  0.222894  0.437852  416.416  399.280   \n",
              "2      12.591705 -0.712759  12.591705  0.026745  0.240164  482.661  440.325   \n",
              "3      14.202941 -1.166637  14.202941  0.131963  0.352801  520.607  492.383   \n",
              "4      10.427797 -0.376551  10.427797  0.028222  0.529466  333.516  298.236   \n",
              "...          ...       ...        ...       ...       ...      ...      ...   \n",
              "32297  11.970142 -0.183834  11.970142  0.183834  0.316266  446.532  424.356   \n",
              "32298  12.104517 -0.199427  12.104517  0.199427  0.319567  455.543  434.375   \n",
              "32299  12.642889 -0.364167  12.642889  0.018016  0.290333  566.783  516.383   \n",
              "32300  14.696218 -1.170241  14.696218  0.122563  0.187356  638.576  615.392   \n",
              "32301  13.336314 -0.713877  13.336314  0.056006  0.191339  655.031  631.847   \n",
              "\n",
              "                7      8    9  ...  198  199  200  201  202  203  204  205  \\\n",
              "0      549.176067  204.0  0.0  ...  0.0  0.0  0.0  0.0  0.0  0.0  0.0  0.0   \n",
              "1      416.139702  154.0  0.0  ...  0.0  0.0  0.0  0.0  0.0  0.0  0.0  0.0   \n",
              "2      482.303224  192.0  0.0  ...  0.0  0.0  0.0  0.0  0.0  0.0  0.0  0.0   \n",
              "3      520.166808  192.0  0.0  ...  0.0  0.0  0.0  0.0  0.0  0.0  0.0  1.0   \n",
              "4      333.266779  136.0  0.0  ...  0.0  0.0  0.0  0.0  0.0  0.0  0.0  0.0   \n",
              "...           ...    ...  ...  ...  ...  ...  ...  ...  ...  ...  ...  ...   \n",
              "32297  446.141262  162.0  0.0  ...  0.0  0.0  0.0  0.0  0.0  0.0  0.0  1.0   \n",
              "32298  455.141596  164.0  0.0  ...  0.0  0.0  0.0  0.0  0.0  0.0  0.0  1.0   \n",
              "32299  566.371973  226.0  0.0  ...  0.0  0.0  0.0  0.0  0.0  0.0  0.0  0.0   \n",
              "32300  638.178607  236.0  0.0  ...  0.0  0.0  0.0  0.0  0.0  0.0  0.0  0.0   \n",
              "32301  654.149056  236.0  0.0  ...  0.0  0.0  0.0  0.0  0.0  0.0  0.0  0.0   \n",
              "\n",
              "       206  207  \n",
              "0      0.0  0.0  \n",
              "1      0.0  0.0  \n",
              "2      0.0  0.0  \n",
              "3      0.0  0.0  \n",
              "4      0.0  0.0  \n",
              "...    ...  ...  \n",
              "32297  0.0  0.0  \n",
              "32298  0.0  0.0  \n",
              "32299  0.0  0.0  \n",
              "32300  0.0  0.0  \n",
              "32301  0.0  0.0  \n",
              "\n",
              "[32302 rows x 208 columns]"
            ],
            "text/html": [
              "\n",
              "  <div id=\"df-ee17fa54-c01b-43d2-8ad7-fcb963f5a1d7\">\n",
              "    <div class=\"colab-df-container\">\n",
              "      <div>\n",
              "<style scoped>\n",
              "    .dataframe tbody tr th:only-of-type {\n",
              "        vertical-align: middle;\n",
              "    }\n",
              "\n",
              "    .dataframe tbody tr th {\n",
              "        vertical-align: top;\n",
              "    }\n",
              "\n",
              "    .dataframe thead th {\n",
              "        text-align: right;\n",
              "    }\n",
              "</style>\n",
              "<table border=\"1\" class=\"dataframe\">\n",
              "  <thead>\n",
              "    <tr style=\"text-align: right;\">\n",
              "      <th></th>\n",
              "      <th>0</th>\n",
              "      <th>1</th>\n",
              "      <th>2</th>\n",
              "      <th>3</th>\n",
              "      <th>4</th>\n",
              "      <th>5</th>\n",
              "      <th>6</th>\n",
              "      <th>7</th>\n",
              "      <th>8</th>\n",
              "      <th>9</th>\n",
              "      <th>...</th>\n",
              "      <th>198</th>\n",
              "      <th>199</th>\n",
              "      <th>200</th>\n",
              "      <th>201</th>\n",
              "      <th>202</th>\n",
              "      <th>203</th>\n",
              "      <th>204</th>\n",
              "      <th>205</th>\n",
              "      <th>206</th>\n",
              "      <th>207</th>\n",
              "    </tr>\n",
              "  </thead>\n",
              "  <tbody>\n",
              "    <tr>\n",
              "      <th>0</th>\n",
              "      <td>13.182830</td>\n",
              "      <td>-0.476693</td>\n",
              "      <td>13.182830</td>\n",
              "      <td>0.055287</td>\n",
              "      <td>0.201967</td>\n",
              "      <td>549.547</td>\n",
              "      <td>526.363</td>\n",
              "      <td>549.176067</td>\n",
              "      <td>204.0</td>\n",
              "      <td>0.0</td>\n",
              "      <td>...</td>\n",
              "      <td>0.0</td>\n",
              "      <td>0.0</td>\n",
              "      <td>0.0</td>\n",
              "      <td>0.0</td>\n",
              "      <td>0.0</td>\n",
              "      <td>0.0</td>\n",
              "      <td>0.0</td>\n",
              "      <td>0.0</td>\n",
              "      <td>0.0</td>\n",
              "      <td>0.0</td>\n",
              "    </tr>\n",
              "    <tr>\n",
              "      <th>1</th>\n",
              "      <td>13.199973</td>\n",
              "      <td>-0.440714</td>\n",
              "      <td>13.199973</td>\n",
              "      <td>0.222894</td>\n",
              "      <td>0.437852</td>\n",
              "      <td>416.416</td>\n",
              "      <td>399.280</td>\n",
              "      <td>416.139702</td>\n",
              "      <td>154.0</td>\n",
              "      <td>0.0</td>\n",
              "      <td>...</td>\n",
              "      <td>0.0</td>\n",
              "      <td>0.0</td>\n",
              "      <td>0.0</td>\n",
              "      <td>0.0</td>\n",
              "      <td>0.0</td>\n",
              "      <td>0.0</td>\n",
              "      <td>0.0</td>\n",
              "      <td>0.0</td>\n",
              "      <td>0.0</td>\n",
              "      <td>0.0</td>\n",
              "    </tr>\n",
              "    <tr>\n",
              "      <th>2</th>\n",
              "      <td>12.591705</td>\n",
              "      <td>-0.712759</td>\n",
              "      <td>12.591705</td>\n",
              "      <td>0.026745</td>\n",
              "      <td>0.240164</td>\n",
              "      <td>482.661</td>\n",
              "      <td>440.325</td>\n",
              "      <td>482.303224</td>\n",
              "      <td>192.0</td>\n",
              "      <td>0.0</td>\n",
              "      <td>...</td>\n",
              "      <td>0.0</td>\n",
              "      <td>0.0</td>\n",
              "      <td>0.0</td>\n",
              "      <td>0.0</td>\n",
              "      <td>0.0</td>\n",
              "      <td>0.0</td>\n",
              "      <td>0.0</td>\n",
              "      <td>0.0</td>\n",
              "      <td>0.0</td>\n",
              "      <td>0.0</td>\n",
              "    </tr>\n",
              "    <tr>\n",
              "      <th>3</th>\n",
              "      <td>14.202941</td>\n",
              "      <td>-1.166637</td>\n",
              "      <td>14.202941</td>\n",
              "      <td>0.131963</td>\n",
              "      <td>0.352801</td>\n",
              "      <td>520.607</td>\n",
              "      <td>492.383</td>\n",
              "      <td>520.166808</td>\n",
              "      <td>192.0</td>\n",
              "      <td>0.0</td>\n",
              "      <td>...</td>\n",
              "      <td>0.0</td>\n",
              "      <td>0.0</td>\n",
              "      <td>0.0</td>\n",
              "      <td>0.0</td>\n",
              "      <td>0.0</td>\n",
              "      <td>0.0</td>\n",
              "      <td>0.0</td>\n",
              "      <td>1.0</td>\n",
              "      <td>0.0</td>\n",
              "      <td>0.0</td>\n",
              "    </tr>\n",
              "    <tr>\n",
              "      <th>4</th>\n",
              "      <td>10.427797</td>\n",
              "      <td>-0.376551</td>\n",
              "      <td>10.427797</td>\n",
              "      <td>0.028222</td>\n",
              "      <td>0.529466</td>\n",
              "      <td>333.516</td>\n",
              "      <td>298.236</td>\n",
              "      <td>333.266779</td>\n",
              "      <td>136.0</td>\n",
              "      <td>0.0</td>\n",
              "      <td>...</td>\n",
              "      <td>0.0</td>\n",
              "      <td>0.0</td>\n",
              "      <td>0.0</td>\n",
              "      <td>0.0</td>\n",
              "      <td>0.0</td>\n",
              "      <td>0.0</td>\n",
              "      <td>0.0</td>\n",
              "      <td>0.0</td>\n",
              "      <td>0.0</td>\n",
              "      <td>0.0</td>\n",
              "    </tr>\n",
              "    <tr>\n",
              "      <th>...</th>\n",
              "      <td>...</td>\n",
              "      <td>...</td>\n",
              "      <td>...</td>\n",
              "      <td>...</td>\n",
              "      <td>...</td>\n",
              "      <td>...</td>\n",
              "      <td>...</td>\n",
              "      <td>...</td>\n",
              "      <td>...</td>\n",
              "      <td>...</td>\n",
              "      <td>...</td>\n",
              "      <td>...</td>\n",
              "      <td>...</td>\n",
              "      <td>...</td>\n",
              "      <td>...</td>\n",
              "      <td>...</td>\n",
              "      <td>...</td>\n",
              "      <td>...</td>\n",
              "      <td>...</td>\n",
              "      <td>...</td>\n",
              "      <td>...</td>\n",
              "    </tr>\n",
              "    <tr>\n",
              "      <th>32297</th>\n",
              "      <td>11.970142</td>\n",
              "      <td>-0.183834</td>\n",
              "      <td>11.970142</td>\n",
              "      <td>0.183834</td>\n",
              "      <td>0.316266</td>\n",
              "      <td>446.532</td>\n",
              "      <td>424.356</td>\n",
              "      <td>446.141262</td>\n",
              "      <td>162.0</td>\n",
              "      <td>0.0</td>\n",
              "      <td>...</td>\n",
              "      <td>0.0</td>\n",
              "      <td>0.0</td>\n",
              "      <td>0.0</td>\n",
              "      <td>0.0</td>\n",
              "      <td>0.0</td>\n",
              "      <td>0.0</td>\n",
              "      <td>0.0</td>\n",
              "      <td>1.0</td>\n",
              "      <td>0.0</td>\n",
              "      <td>0.0</td>\n",
              "    </tr>\n",
              "    <tr>\n",
              "      <th>32298</th>\n",
              "      <td>12.104517</td>\n",
              "      <td>-0.199427</td>\n",
              "      <td>12.104517</td>\n",
              "      <td>0.199427</td>\n",
              "      <td>0.319567</td>\n",
              "      <td>455.543</td>\n",
              "      <td>434.375</td>\n",
              "      <td>455.141596</td>\n",
              "      <td>164.0</td>\n",
              "      <td>0.0</td>\n",
              "      <td>...</td>\n",
              "      <td>0.0</td>\n",
              "      <td>0.0</td>\n",
              "      <td>0.0</td>\n",
              "      <td>0.0</td>\n",
              "      <td>0.0</td>\n",
              "      <td>0.0</td>\n",
              "      <td>0.0</td>\n",
              "      <td>1.0</td>\n",
              "      <td>0.0</td>\n",
              "      <td>0.0</td>\n",
              "    </tr>\n",
              "    <tr>\n",
              "      <th>32299</th>\n",
              "      <td>12.642889</td>\n",
              "      <td>-0.364167</td>\n",
              "      <td>12.642889</td>\n",
              "      <td>0.018016</td>\n",
              "      <td>0.290333</td>\n",
              "      <td>566.783</td>\n",
              "      <td>516.383</td>\n",
              "      <td>566.371973</td>\n",
              "      <td>226.0</td>\n",
              "      <td>0.0</td>\n",
              "      <td>...</td>\n",
              "      <td>0.0</td>\n",
              "      <td>0.0</td>\n",
              "      <td>0.0</td>\n",
              "      <td>0.0</td>\n",
              "      <td>0.0</td>\n",
              "      <td>0.0</td>\n",
              "      <td>0.0</td>\n",
              "      <td>0.0</td>\n",
              "      <td>0.0</td>\n",
              "      <td>0.0</td>\n",
              "    </tr>\n",
              "    <tr>\n",
              "      <th>32300</th>\n",
              "      <td>14.696218</td>\n",
              "      <td>-1.170241</td>\n",
              "      <td>14.696218</td>\n",
              "      <td>0.122563</td>\n",
              "      <td>0.187356</td>\n",
              "      <td>638.576</td>\n",
              "      <td>615.392</td>\n",
              "      <td>638.178607</td>\n",
              "      <td>236.0</td>\n",
              "      <td>0.0</td>\n",
              "      <td>...</td>\n",
              "      <td>0.0</td>\n",
              "      <td>0.0</td>\n",
              "      <td>0.0</td>\n",
              "      <td>0.0</td>\n",
              "      <td>0.0</td>\n",
              "      <td>0.0</td>\n",
              "      <td>0.0</td>\n",
              "      <td>0.0</td>\n",
              "      <td>0.0</td>\n",
              "      <td>0.0</td>\n",
              "    </tr>\n",
              "    <tr>\n",
              "      <th>32301</th>\n",
              "      <td>13.336314</td>\n",
              "      <td>-0.713877</td>\n",
              "      <td>13.336314</td>\n",
              "      <td>0.056006</td>\n",
              "      <td>0.191339</td>\n",
              "      <td>655.031</td>\n",
              "      <td>631.847</td>\n",
              "      <td>654.149056</td>\n",
              "      <td>236.0</td>\n",
              "      <td>0.0</td>\n",
              "      <td>...</td>\n",
              "      <td>0.0</td>\n",
              "      <td>0.0</td>\n",
              "      <td>0.0</td>\n",
              "      <td>0.0</td>\n",
              "      <td>0.0</td>\n",
              "      <td>0.0</td>\n",
              "      <td>0.0</td>\n",
              "      <td>0.0</td>\n",
              "      <td>0.0</td>\n",
              "      <td>0.0</td>\n",
              "    </tr>\n",
              "  </tbody>\n",
              "</table>\n",
              "<p>32302 rows × 208 columns</p>\n",
              "</div>\n",
              "      <button class=\"colab-df-convert\" onclick=\"convertToInteractive('df-ee17fa54-c01b-43d2-8ad7-fcb963f5a1d7')\"\n",
              "              title=\"Convert this dataframe to an interactive table.\"\n",
              "              style=\"display:none;\">\n",
              "        \n",
              "  <svg xmlns=\"http://www.w3.org/2000/svg\" height=\"24px\"viewBox=\"0 0 24 24\"\n",
              "       width=\"24px\">\n",
              "    <path d=\"M0 0h24v24H0V0z\" fill=\"none\"/>\n",
              "    <path d=\"M18.56 5.44l.94 2.06.94-2.06 2.06-.94-2.06-.94-.94-2.06-.94 2.06-2.06.94zm-11 1L8.5 8.5l.94-2.06 2.06-.94-2.06-.94L8.5 2.5l-.94 2.06-2.06.94zm10 10l.94 2.06.94-2.06 2.06-.94-2.06-.94-.94-2.06-.94 2.06-2.06.94z\"/><path d=\"M17.41 7.96l-1.37-1.37c-.4-.4-.92-.59-1.43-.59-.52 0-1.04.2-1.43.59L10.3 9.45l-7.72 7.72c-.78.78-.78 2.05 0 2.83L4 21.41c.39.39.9.59 1.41.59.51 0 1.02-.2 1.41-.59l7.78-7.78 2.81-2.81c.8-.78.8-2.07 0-2.86zM5.41 20L4 18.59l7.72-7.72 1.47 1.35L5.41 20z\"/>\n",
              "  </svg>\n",
              "      </button>\n",
              "      \n",
              "  <style>\n",
              "    .colab-df-container {\n",
              "      display:flex;\n",
              "      flex-wrap:wrap;\n",
              "      gap: 12px;\n",
              "    }\n",
              "\n",
              "    .colab-df-convert {\n",
              "      background-color: #E8F0FE;\n",
              "      border: none;\n",
              "      border-radius: 50%;\n",
              "      cursor: pointer;\n",
              "      display: none;\n",
              "      fill: #1967D2;\n",
              "      height: 32px;\n",
              "      padding: 0 0 0 0;\n",
              "      width: 32px;\n",
              "    }\n",
              "\n",
              "    .colab-df-convert:hover {\n",
              "      background-color: #E2EBFA;\n",
              "      box-shadow: 0px 1px 2px rgba(60, 64, 67, 0.3), 0px 1px 3px 1px rgba(60, 64, 67, 0.15);\n",
              "      fill: #174EA6;\n",
              "    }\n",
              "\n",
              "    [theme=dark] .colab-df-convert {\n",
              "      background-color: #3B4455;\n",
              "      fill: #D2E3FC;\n",
              "    }\n",
              "\n",
              "    [theme=dark] .colab-df-convert:hover {\n",
              "      background-color: #434B5C;\n",
              "      box-shadow: 0px 1px 3px 1px rgba(0, 0, 0, 0.15);\n",
              "      filter: drop-shadow(0px 1px 2px rgba(0, 0, 0, 0.3));\n",
              "      fill: #FFFFFF;\n",
              "    }\n",
              "  </style>\n",
              "\n",
              "      <script>\n",
              "        const buttonEl =\n",
              "          document.querySelector('#df-ee17fa54-c01b-43d2-8ad7-fcb963f5a1d7 button.colab-df-convert');\n",
              "        buttonEl.style.display =\n",
              "          google.colab.kernel.accessAllowed ? 'block' : 'none';\n",
              "\n",
              "        async function convertToInteractive(key) {\n",
              "          const element = document.querySelector('#df-ee17fa54-c01b-43d2-8ad7-fcb963f5a1d7');\n",
              "          const dataTable =\n",
              "            await google.colab.kernel.invokeFunction('convertToInteractive',\n",
              "                                                     [key], {});\n",
              "          if (!dataTable) return;\n",
              "\n",
              "          const docLinkHtml = 'Like what you see? Visit the ' +\n",
              "            '<a target=\"_blank\" href=https://colab.research.google.com/notebooks/data_table.ipynb>data table notebook</a>'\n",
              "            + ' to learn more about interactive tables.';\n",
              "          element.innerHTML = '';\n",
              "          dataTable['output_type'] = 'display_data';\n",
              "          await google.colab.output.renderOutput(dataTable, element);\n",
              "          const docLink = document.createElement('div');\n",
              "          docLink.innerHTML = docLinkHtml;\n",
              "          element.appendChild(docLink);\n",
              "        }\n",
              "      </script>\n",
              "    </div>\n",
              "  </div>\n",
              "  "
            ]
          },
          "metadata": {},
          "execution_count": 7
        }
      ],
      "source": [
        "X"
      ]
    },
    {
      "cell_type": "code",
      "source": [
        "df= pd.read_csv(\"/content/drive/MyDrive/Colab Notebooks/drug discovery/MCF7/data/y_pic50.csv\")\n",
        "y = df.loc[:, ~df.columns.str.contains('^Unnamed')]\n",
        "y"
      ],
      "metadata": {
        "colab": {
          "base_uri": "https://localhost:8080/",
          "height": 423
        },
        "id": "scbIedRh9BHt",
        "outputId": "8c3aac98-2c3c-4971-fe88-d33abfdbba67"
      },
      "execution_count": null,
      "outputs": [
        {
          "output_type": "execute_result",
          "data": {
            "text/plain": [
              "          pIC50\n",
              "0      5.244125\n",
              "1      5.397940\n",
              "2      4.813326\n",
              "3      4.299902\n",
              "4      5.207608\n",
              "...         ...\n",
              "32297  4.362110\n",
              "32298  4.301030\n",
              "32299  4.920819\n",
              "32300  4.000000\n",
              "32301  4.000000\n",
              "\n",
              "[32302 rows x 1 columns]"
            ],
            "text/html": [
              "\n",
              "  <div id=\"df-a766c35c-f529-4261-9038-28b9fbbf0ec6\">\n",
              "    <div class=\"colab-df-container\">\n",
              "      <div>\n",
              "<style scoped>\n",
              "    .dataframe tbody tr th:only-of-type {\n",
              "        vertical-align: middle;\n",
              "    }\n",
              "\n",
              "    .dataframe tbody tr th {\n",
              "        vertical-align: top;\n",
              "    }\n",
              "\n",
              "    .dataframe thead th {\n",
              "        text-align: right;\n",
              "    }\n",
              "</style>\n",
              "<table border=\"1\" class=\"dataframe\">\n",
              "  <thead>\n",
              "    <tr style=\"text-align: right;\">\n",
              "      <th></th>\n",
              "      <th>pIC50</th>\n",
              "    </tr>\n",
              "  </thead>\n",
              "  <tbody>\n",
              "    <tr>\n",
              "      <th>0</th>\n",
              "      <td>5.244125</td>\n",
              "    </tr>\n",
              "    <tr>\n",
              "      <th>1</th>\n",
              "      <td>5.397940</td>\n",
              "    </tr>\n",
              "    <tr>\n",
              "      <th>2</th>\n",
              "      <td>4.813326</td>\n",
              "    </tr>\n",
              "    <tr>\n",
              "      <th>3</th>\n",
              "      <td>4.299902</td>\n",
              "    </tr>\n",
              "    <tr>\n",
              "      <th>4</th>\n",
              "      <td>5.207608</td>\n",
              "    </tr>\n",
              "    <tr>\n",
              "      <th>...</th>\n",
              "      <td>...</td>\n",
              "    </tr>\n",
              "    <tr>\n",
              "      <th>32297</th>\n",
              "      <td>4.362110</td>\n",
              "    </tr>\n",
              "    <tr>\n",
              "      <th>32298</th>\n",
              "      <td>4.301030</td>\n",
              "    </tr>\n",
              "    <tr>\n",
              "      <th>32299</th>\n",
              "      <td>4.920819</td>\n",
              "    </tr>\n",
              "    <tr>\n",
              "      <th>32300</th>\n",
              "      <td>4.000000</td>\n",
              "    </tr>\n",
              "    <tr>\n",
              "      <th>32301</th>\n",
              "      <td>4.000000</td>\n",
              "    </tr>\n",
              "  </tbody>\n",
              "</table>\n",
              "<p>32302 rows × 1 columns</p>\n",
              "</div>\n",
              "      <button class=\"colab-df-convert\" onclick=\"convertToInteractive('df-a766c35c-f529-4261-9038-28b9fbbf0ec6')\"\n",
              "              title=\"Convert this dataframe to an interactive table.\"\n",
              "              style=\"display:none;\">\n",
              "        \n",
              "  <svg xmlns=\"http://www.w3.org/2000/svg\" height=\"24px\"viewBox=\"0 0 24 24\"\n",
              "       width=\"24px\">\n",
              "    <path d=\"M0 0h24v24H0V0z\" fill=\"none\"/>\n",
              "    <path d=\"M18.56 5.44l.94 2.06.94-2.06 2.06-.94-2.06-.94-.94-2.06-.94 2.06-2.06.94zm-11 1L8.5 8.5l.94-2.06 2.06-.94-2.06-.94L8.5 2.5l-.94 2.06-2.06.94zm10 10l.94 2.06.94-2.06 2.06-.94-2.06-.94-.94-2.06-.94 2.06-2.06.94z\"/><path d=\"M17.41 7.96l-1.37-1.37c-.4-.4-.92-.59-1.43-.59-.52 0-1.04.2-1.43.59L10.3 9.45l-7.72 7.72c-.78.78-.78 2.05 0 2.83L4 21.41c.39.39.9.59 1.41.59.51 0 1.02-.2 1.41-.59l7.78-7.78 2.81-2.81c.8-.78.8-2.07 0-2.86zM5.41 20L4 18.59l7.72-7.72 1.47 1.35L5.41 20z\"/>\n",
              "  </svg>\n",
              "      </button>\n",
              "      \n",
              "  <style>\n",
              "    .colab-df-container {\n",
              "      display:flex;\n",
              "      flex-wrap:wrap;\n",
              "      gap: 12px;\n",
              "    }\n",
              "\n",
              "    .colab-df-convert {\n",
              "      background-color: #E8F0FE;\n",
              "      border: none;\n",
              "      border-radius: 50%;\n",
              "      cursor: pointer;\n",
              "      display: none;\n",
              "      fill: #1967D2;\n",
              "      height: 32px;\n",
              "      padding: 0 0 0 0;\n",
              "      width: 32px;\n",
              "    }\n",
              "\n",
              "    .colab-df-convert:hover {\n",
              "      background-color: #E2EBFA;\n",
              "      box-shadow: 0px 1px 2px rgba(60, 64, 67, 0.3), 0px 1px 3px 1px rgba(60, 64, 67, 0.15);\n",
              "      fill: #174EA6;\n",
              "    }\n",
              "\n",
              "    [theme=dark] .colab-df-convert {\n",
              "      background-color: #3B4455;\n",
              "      fill: #D2E3FC;\n",
              "    }\n",
              "\n",
              "    [theme=dark] .colab-df-convert:hover {\n",
              "      background-color: #434B5C;\n",
              "      box-shadow: 0px 1px 3px 1px rgba(0, 0, 0, 0.15);\n",
              "      filter: drop-shadow(0px 1px 2px rgba(0, 0, 0, 0.3));\n",
              "      fill: #FFFFFF;\n",
              "    }\n",
              "  </style>\n",
              "\n",
              "      <script>\n",
              "        const buttonEl =\n",
              "          document.querySelector('#df-a766c35c-f529-4261-9038-28b9fbbf0ec6 button.colab-df-convert');\n",
              "        buttonEl.style.display =\n",
              "          google.colab.kernel.accessAllowed ? 'block' : 'none';\n",
              "\n",
              "        async function convertToInteractive(key) {\n",
              "          const element = document.querySelector('#df-a766c35c-f529-4261-9038-28b9fbbf0ec6');\n",
              "          const dataTable =\n",
              "            await google.colab.kernel.invokeFunction('convertToInteractive',\n",
              "                                                     [key], {});\n",
              "          if (!dataTable) return;\n",
              "\n",
              "          const docLinkHtml = 'Like what you see? Visit the ' +\n",
              "            '<a target=\"_blank\" href=https://colab.research.google.com/notebooks/data_table.ipynb>data table notebook</a>'\n",
              "            + ' to learn more about interactive tables.';\n",
              "          element.innerHTML = '';\n",
              "          dataTable['output_type'] = 'display_data';\n",
              "          await google.colab.output.renderOutput(dataTable, element);\n",
              "          const docLink = document.createElement('div');\n",
              "          docLink.innerHTML = docLinkHtml;\n",
              "          element.appendChild(docLink);\n",
              "        }\n",
              "      </script>\n",
              "    </div>\n",
              "  </div>\n",
              "  "
            ]
          },
          "metadata": {},
          "execution_count": 8
        }
      ]
    },
    {
      "cell_type": "code",
      "execution_count": null,
      "metadata": {
        "id": "7JLzGGu20fGX"
      },
      "outputs": [],
      "source": [
        "# Split\n",
        "X_train, X_test, y_train, y_test = train_test_split(X, y, test_size=0.20)"
      ]
    },
    {
      "cell_type": "markdown",
      "metadata": {
        "id": "aaUSZXor0fGX"
      },
      "source": [
        "**5.2 Assessing Model Performance**"
      ]
    },
    {
      "cell_type": "code",
      "execution_count": null,
      "metadata": {
        "id": "rWeJ0LI40fGX",
        "outputId": "898cc836-fb94-4fe5-fd57-7d86aef0d29d",
        "colab": {
          "base_uri": "https://localhost:8080/"
        }
      },
      "outputs": [
        {
          "output_type": "stream",
          "name": "stdout",
          "text": [
            "RFR: nan (nan) Running time: 0 sec\n"
          ]
        }
      ],
      "source": [
        "# Metrics used neg_mean_squared_error using cross-validation\n",
        "\n",
        "models = []\n",
        "\n",
        "#models.append(('Lasso', Lasso())) \n",
        "#models.append(('EN', ElasticNet()))\n",
        "#models.append(('CART', DecisionTreeRegressor()))\n",
        "#models.append(('KNN', KNeighborsRegressor()))\n",
        "#models.append(('SVR', SVR())) \n",
        "models.append(('RFR', RandomForestRegressor()))\n",
        "#models.append(('GBR', GradientBoostingRegressor())) \n",
        "#models.append(('ETR', ExtraTreesRegressor()))\n",
        "\n",
        "\n",
        "results_model = []\n",
        "names_model = []\n",
        "run_time = []\n",
        "for name, model in models:\n",
        "    KF = KFold(n_splits=10, random_state=42,shuffle=True)\n",
        "    start = dt.datetime.now()\n",
        "    cv_results = cross_val_score(model, X_train, y_train, cv=KF, scoring='neg_mean_squared_error')\n",
        "    results_model.append(cv_results)\n",
        "    names_model.append(name)\n",
        "    end  = dt.datetime.now() \n",
        "    duration = (end-start).seconds\n",
        "    run_time.append(duration)\n",
        "    msg = \"%s: %s (%s) Running time: %s sec\" % (name, round(cv_results.mean(),2), round(cv_results.std(),3), duration)\n",
        "    print(msg)"
      ]
    },
    {
      "cell_type": "code",
      "execution_count": null,
      "metadata": {
        "id": "sPB2C4in0fGX"
      },
      "outputs": [],
      "source": [
        "run_sec = []\n",
        "for i in run_time:\n",
        "    s = str(i)+\"s\"\n",
        "    run_sec.append(s)"
      ]
    },
    {
      "cell_type": "code",
      "execution_count": null,
      "metadata": {
        "id": "UlXuizpl0fGY"
      },
      "outputs": [],
      "source": [
        "plt.style.use(\"dark_background\")\n",
        "plt.rcParams[\"figure.figsize\"] = (8,5)\n",
        "fig = plt.figure()\n",
        "fig.suptitle('Algorithm Performance Comparison', fontsize=18)\n",
        "\n",
        "boxprops = dict(color=\"white\",linewidth=1)\n",
        "medianprops = dict(color=\"yellow\",linewidth=1.5)\n",
        "whiskerprops = dict(color=\"white\",linewidth=1)\n",
        "capprops = dict(color=\"white\",linewidth=1)\n",
        "flierprops = dict(color=\"yellow\",linewidth=1)\n",
        "\n",
        "plt.boxplot(results_model, \n",
        "            boxprops=boxprops,\n",
        "            medianprops=medianprops, \n",
        "            whiskerprops=whiskerprops, \n",
        "            capprops=capprops, \n",
        "            showfliers=True, \n",
        "            flierprops=flierprops)\n",
        "\n",
        "x_values = list(range(1,len(run_sec)+1))\n",
        "y_max = pd.DataFrame(results_model).max().max()\n",
        "y_min = pd.DataFrame(results_model).min().min()\n",
        "\n",
        "plt.text(s=\"Running time(s=seconds):\", x = 4, y = y_min, color=\"yellow\", fontsize=12) \n",
        "plt.ylim(y_min + 0.1*y_min, y_max - 0.1*y_max)\n",
        "for i in range(len(x_values)):\n",
        "    plt.text(s=run_sec[i], x = x_values[i]-0.05, y = y_min + 0.07*y_min, color=\"yellow\", fontsize=11)  \n",
        "\n",
        "ax = fig.add_subplot(111)\n",
        "ax.set_xticklabels(names_model, rotation=30)\n",
        "ax.set_ylabel(\"MSE\")\n",
        "\n",
        "plt.savefig(\"figures/algo_comparisson_drug.png\", dpi=400, bbox_inches=\"tight\")\n",
        "\n",
        "plt.show()"
      ]
    },
    {
      "cell_type": "markdown",
      "metadata": {
        "id": "sfOnOPU70fGY"
      },
      "source": [
        "The above analysis revealed **Support Vector Machine (SVM)** and **Random Forest Regressor (RFR)** as the most promissing models. Lets fine tune them using GridSearchCV."
      ]
    },
    {
      "cell_type": "markdown",
      "metadata": {
        "id": "YAC5wuWn0fGY"
      },
      "source": [
        "**5.3: Fine Tunning and Model Evaluation**"
      ]
    },
    {
      "cell_type": "code",
      "execution_count": null,
      "metadata": {
        "id": "egbS18pD0fGY"
      },
      "outputs": [],
      "source": [
        "# GridSearchCV\n",
        "kernel = [\"rbf\"] # [\"linear\", \"poly\", \"rbf\", \"sigmoid\"] \n",
        "C = [2, 3, 4] # higher values lower regularization\n",
        "epsilon = [0.2, 0.3, 0.4] # lower values lower regularization\n",
        "tol = [0.002]\n",
        "\n",
        "param_grid = dict(kernel=kernel, C=C, epsilon=epsilon, tol=tol)\n",
        "\n",
        "model = SVR()\n",
        "KF = KFold(n_splits=5, random_state=42) \n",
        "grid = GridSearchCV(\n",
        "    estimator=model, param_grid=param_grid, scoring=\"neg_mean_squared_error\", cv=KF)\n",
        "grid_result = grid.fit(X_train, y_train)\n",
        "print(\"Best: %f using %s\"\n",
        "      % (grid_result.best_score_, grid_result.best_params_))\n",
        "means = grid_result.cv_results_['mean_test_score']\n",
        "stds = grid_result.cv_results_['std_test_score']\n",
        "params = grid_result.cv_results_['params']\n",
        "for mean, stdev, param in zip(means, stds, params):\n",
        "    print(\"%f (%f) with: %r\" % (mean, stdev, param))\n",
        "    # Best  -0.758105 using {'C': 2, 'epsilon': 0.2, 'kernel': 'rbf', 'tol': 0.002}"
      ]
    },
    {
      "cell_type": "code",
      "execution_count": null,
      "metadata": {
        "id": "5VGQHMU00fGY"
      },
      "outputs": [],
      "source": [
        "SVReg = SVR(C=3, epsilon=0, tol=0.015) # \n",
        "SVReg.fit(X_train,y_train) # 50, 12, 1, 4"
      ]
    },
    {
      "cell_type": "code",
      "execution_count": null,
      "metadata": {
        "id": "Slp1jqSh0fGZ"
      },
      "outputs": [],
      "source": [
        "score_train_SVReg = round(SVReg.score(X_train,y_train),3) "
      ]
    },
    {
      "cell_type": "code",
      "execution_count": null,
      "metadata": {
        "id": "_eZbafJH0fGZ"
      },
      "outputs": [],
      "source": [
        "score_train_SVReg"
      ]
    },
    {
      "cell_type": "code",
      "execution_count": null,
      "metadata": {
        "id": "sbdVR0_N0fGZ"
      },
      "outputs": [],
      "source": [
        "score_test_SVReg = round(SVReg.score(X_test,y_test),3) "
      ]
    },
    {
      "cell_type": "code",
      "execution_count": null,
      "metadata": {
        "id": "6Ns16GBH0fGZ"
      },
      "outputs": [],
      "source": [
        "score_test_SVReg"
      ]
    },
    {
      "cell_type": "markdown",
      "metadata": {
        "id": "JKFdRqtS0fGZ"
      },
      "source": [
        "After Tunning RFR we obtained a better result:\n",
        "    \n",
        "    -0.658591 using {'max_depth': 14, 'min_samples_leaf': 1, 'min_samples_split': 6, 'n_estimators': 45}\n",
        "    \n",
        "Lets see how it performs with the test set"
      ]
    },
    {
      "cell_type": "code",
      "execution_count": null,
      "metadata": {
        "id": "Svxnk16i0fGa"
      },
      "outputs": [],
      "source": [
        "# After trying different combinations we reached the following model \n",
        "RFReg = RandomForestRegressor(n_estimators=45, max_depth=10, min_samples_leaf=4, min_samples_split=2) # \n",
        "RFReg.fit(X_train,y_train) # 50, 12, 1, 4"
      ]
    },
    {
      "cell_type": "code",
      "execution_count": null,
      "metadata": {
        "id": "SJ0qJLGY0fGa"
      },
      "outputs": [],
      "source": [
        "score_train_RFReg = round(RFReg.score(X_train,y_train),3) "
      ]
    },
    {
      "cell_type": "code",
      "execution_count": null,
      "metadata": {
        "id": "39M4aOTT0fGa"
      },
      "outputs": [],
      "source": [
        "score_train_RFReg"
      ]
    },
    {
      "cell_type": "code",
      "execution_count": null,
      "metadata": {
        "id": "S70-JQGP0fGa"
      },
      "outputs": [],
      "source": [
        "score_test_RFReg = round(RFReg.score(X_test,y_test),3) "
      ]
    },
    {
      "cell_type": "code",
      "execution_count": null,
      "metadata": {
        "id": "lo5_xrfe0fGa"
      },
      "outputs": [],
      "source": [
        "score_test_RFReg"
      ]
    },
    {
      "cell_type": "code",
      "execution_count": null,
      "metadata": {
        "id": "Y-pBwUzt0fGb"
      },
      "outputs": [],
      "source": [
        "y_pred = RFReg.predict(X_test)\n",
        "y_pred= y_pred.reshape(-1,1)"
      ]
    },
    {
      "cell_type": "code",
      "execution_count": null,
      "metadata": {
        "id": "pDf3NRbT0fGb"
      },
      "outputs": [],
      "source": [
        "metrics.mean_squared_error(y_test, y_pred)"
      ]
    },
    {
      "cell_type": "code",
      "execution_count": null,
      "metadata": {
        "id": "LTLY4Zq40fGc"
      },
      "outputs": [],
      "source": [
        "metrics.mean_absolute_error(y_test, y_pred)"
      ]
    },
    {
      "cell_type": "markdown",
      "metadata": {
        "id": "j88SL6lD0fGc"
      },
      "source": [
        "I will now create a scatter plot including the test and the predicted data."
      ]
    },
    {
      "cell_type": "code",
      "execution_count": null,
      "metadata": {
        "id": "2lW4E3e00fGc"
      },
      "outputs": [],
      "source": [
        "(y_test.reshape(-1,1)).shape"
      ]
    },
    {
      "cell_type": "code",
      "execution_count": null,
      "metadata": {
        "id": "IbDd8Qqh0fGc"
      },
      "outputs": [],
      "source": [
        "y_pred.shape"
      ]
    },
    {
      "cell_type": "code",
      "execution_count": null,
      "metadata": {
        "id": "5KKhR-wT0fGc"
      },
      "outputs": [],
      "source": [
        "df_scatter = pd.DataFrame(np.concatenate((y_test.reshape(-1,1), y_pred), axis=1), columns=[\"y_test_pIC50\", \"y_pred_pIC50\"])"
      ]
    },
    {
      "cell_type": "code",
      "execution_count": null,
      "metadata": {
        "id": "OhJ_lgaU0fGd"
      },
      "outputs": [],
      "source": [
        "df_scatter"
      ]
    },
    {
      "cell_type": "code",
      "execution_count": null,
      "metadata": {
        "id": "vcF0Vr2f0fGd"
      },
      "outputs": [],
      "source": [
        "fig = px.scatter(df_scatter,\n",
        "                x=\"y_test_pIC50\", \n",
        "                y=\"y_pred_pIC50\",\n",
        "                hover_name=df_scatter.index,\n",
        "                hover_data=[df_scatter.index],\n",
        "                template=\"plotly_dark\", width=700, height=500)\n",
        "fig.add_trace(go.Line(x=[0,10], y=[0,10], name=\"Perfect Prediction\"))\n",
        "fig.show()"
      ]
    },
    {
      "cell_type": "markdown",
      "metadata": {
        "id": "dphvC0ra0fGd"
      },
      "source": [
        "We observe how predicting the extremes is harder for the model"
      ]
    },
    {
      "cell_type": "markdown",
      "metadata": {
        "id": "SZByNyJd0fGd"
      },
      "source": [
        "**Feature importance**"
      ]
    },
    {
      "cell_type": "code",
      "execution_count": null,
      "metadata": {
        "id": "ffPo1Ys20fGe"
      },
      "outputs": [],
      "source": [
        "feat_imp = pd.Series(RFReg.feature_importances_)\n",
        "features = pd.Series(X.columns)"
      ]
    },
    {
      "cell_type": "code",
      "execution_count": null,
      "metadata": {
        "id": "1prdRKnL0fGe"
      },
      "outputs": [],
      "source": [
        "len(features)"
      ]
    },
    {
      "cell_type": "code",
      "execution_count": null,
      "metadata": {
        "id": "1EWwN-n60fGe"
      },
      "outputs": [],
      "source": [
        "feature_importance = pd.concat([features,feat_imp], axis=1, keys=[\"Feature\",\"Importance\"])"
      ]
    },
    {
      "cell_type": "code",
      "execution_count": null,
      "metadata": {
        "id": "ept5egg40fGe"
      },
      "outputs": [],
      "source": [
        "feature_importance = feature_importance.sort_values(by=\"Importance\", ascending=False)"
      ]
    },
    {
      "cell_type": "code",
      "execution_count": null,
      "metadata": {
        "id": "ZVnzmuTg0fGe"
      },
      "outputs": [],
      "source": [
        "cumulative_importance_other = feature_importance[20:][\"Importance\"].sum()"
      ]
    },
    {
      "cell_type": "code",
      "execution_count": null,
      "metadata": {
        "id": "_eypAVwI0fGe"
      },
      "outputs": [],
      "source": [
        "rest_of_features = pd.DataFrame([\"rest_of_features(187)\", cumulative_importance_other])"
      ]
    },
    {
      "cell_type": "code",
      "execution_count": null,
      "metadata": {
        "id": "hN5pv0oI0fGf"
      },
      "outputs": [],
      "source": [
        "rest_of_features = rest_of_features.T"
      ]
    },
    {
      "cell_type": "code",
      "execution_count": null,
      "metadata": {
        "id": "GrDQIGdX0fGf"
      },
      "outputs": [],
      "source": [
        "rest_of_features.columns = [\"Feature\", \"Importance\"]"
      ]
    },
    {
      "cell_type": "code",
      "execution_count": null,
      "metadata": {
        "id": "Q-HsF_ZJ0fGf"
      },
      "outputs": [],
      "source": [
        "thirteen_top_features = feature_importance[:13]"
      ]
    },
    {
      "cell_type": "code",
      "execution_count": null,
      "metadata": {
        "id": "u2Pxm9cH0fGf"
      },
      "outputs": [],
      "source": [
        "feature_importance = pd.concat((thirteen_top_features, rest_of_features), axis=0).reset_index(drop=True)"
      ]
    },
    {
      "cell_type": "code",
      "execution_count": null,
      "metadata": {
        "id": "Bz1wasAW0fGf"
      },
      "outputs": [],
      "source": [
        "plt.rcParams[\"figure.figsize\"] = (10,5)\n",
        "imp_pallete = sns.color_palette(\"Dark2\")\n",
        "sns.barplot(x=\"Feature\", y=\"Importance\", data=feature_importance, palette=imp_pallete)\n",
        "plt.xticks(rotation=80, fontsize=12)\n",
        "plt.ylabel(\"Importance\", labelpad=15, fontsize=14)\n",
        "plt.title(\"Feature Importance Random Forest Tree Model\", fontsize=16)\n",
        "# Splt.savefig(r\"D:\\Projects\\GitHub_drug_discovery\\figures\\Feature_importance_drugs.png\", dpi=400, bbox_inches=\"tight\")\n",
        "plt.show()"
      ]
    },
    {
      "cell_type": "code",
      "execution_count": null,
      "metadata": {
        "id": "SvTWWVVR0fGg"
      },
      "outputs": [],
      "source": [
        "y_pred = RFReg.predict(X)\n",
        "y_pred= y_pred.reshape(-1,1)\n",
        "(y.reshape(-1,1)).shape"
      ]
    },
    {
      "cell_type": "code",
      "execution_count": null,
      "metadata": {
        "id": "o-JQUwkg0fGg"
      },
      "outputs": [],
      "source": [
        "df_scatter_all = pd.DataFrame(np.concatenate((y.reshape(-1,1), y_pred), axis=1), columns=[\"y_pIC50\", \"y_pred_pIC50\"])"
      ]
    },
    {
      "cell_type": "code",
      "execution_count": null,
      "metadata": {
        "id": "12pjGyqb0fGg"
      },
      "outputs": [],
      "source": [
        "df_scatter_all = pd.concat([df_scatter_all, df[\"target_pref_name\"]], axis=1)"
      ]
    },
    {
      "cell_type": "code",
      "execution_count": null,
      "metadata": {
        "id": "zcaBE0go0fGg"
      },
      "outputs": [],
      "source": [
        "df_scatter_all"
      ]
    },
    {
      "cell_type": "code",
      "execution_count": null,
      "metadata": {
        "id": "JGNWsIUm0fGh"
      },
      "outputs": [],
      "source": [
        "fig = px.scatter(df_scatter_all,\n",
        "                x=\"y_pIC50\", \n",
        "                y=\"y_pred_pIC50\",\n",
        "                color=\"target_pref_name\", \n",
        "                opacity=0.5,\n",
        "                size = \"y_pIC50\",\n",
        "                hover_name=df_scatter_all.index,\n",
        "                hover_data=[\"target_pref_name\",df_scatter_all.index],\n",
        "                template=\"plotly_dark\", width=1000, height=500)\n",
        "fig.add_trace(go.Line(x=[0,10], y=[0,10], name=\"Perfect Prediction\"))\n",
        "fig.show()"
      ]
    },
    {
      "cell_type": "markdown",
      "metadata": {
        "id": "Pb6zPtxW0fGh"
      },
      "source": [
        "## 6. Conclussions"
      ]
    },
    {
      "cell_type": "markdown",
      "metadata": {
        "id": "FJzbhVNs0fGh"
      },
      "source": [
        "**6.1 PubChem features** \n",
        "\n",
        "We observe that, based on our model, the PubChem features that seem to be most important in determining the activity of a drug are:\n",
        "* 143\n",
        "* 18\n",
        "* 133\n",
        "* 171\n",
        "* 176\n",
        "* 48...\n",
        "\n",
        "It would be interesting to investigate this further and try to associate this with the activity of the drug, which could sed some light into possible modes of action, and development of more effective drugs."
      ]
    },
    {
      "cell_type": "markdown",
      "metadata": {
        "id": "2TTmJkcq0fGh"
      },
      "source": [
        "**6.2 Molecular Cancer Target Groups** 🎯\n",
        "\n",
        "We also see that:\n",
        "* **Lysine-specific demethylase 5B (KDM5B)**\n",
        "* **Glutamate carboxipeptidase II (GCPII)**\n",
        "* **Mitogen-activated protein kinase 8 (MAP3K8)**\n",
        "\n",
        "They have the largest activities among all molecular targets. Hence they may be the **best targets to develop drugs for treating cancer**."
      ]
    },
    {
      "cell_type": "markdown",
      "metadata": {
        "id": "G8wQtdid0fGh"
      },
      "source": [
        "**6.3 Literature**. 📚 \n",
        "\n",
        "To continue this project would be interesting to further study this three proteins:\n",
        "\n",
        "* Nice Review for **KDM5B**: [2017  KDM5B in development and cancer](https://www.ncbi.nlm.nih.gov/pmc/articles/PMC5352456/) ->  \"*Given its association with tumor progression and prognosis of cancer patients, KDM5B was proposed to be a novel target for the prevention and treatment of human cancers*\".\n",
        "\n",
        "* Furthemore, It seems that there is already a strong focus on finding inhibitors of **GCPII**: [2019 Structural and computational basis for potent inhibition of glutamate carboxypeptidase II by carbamate-based inhibitors](https://www.sciencedirect.com/science/article/abs/pii/S0968089618316110). *\"These insights should be of particular importance in future efforts to design and develop GCPII inhibitors for optimal inhibitory potency\"*\n",
        "\n",
        "* MAP3K8 acts as a tumor suppressor, and there is a **significant elevation in the cancer tissue or/and cells**. **Nonetheless, this may not be a good molecular target** since MAPK 8 acts as a MAP3K and is widely expressed in the brain, intestine, kidney, skeletal muscles, and the immunological system, hence a drug could have multiple adverse effects. [Read more in this paper from 2015](https://academic.oup.com/mend/article/29/5/703/2556237)."
      ]
    },
    {
      "cell_type": "markdown",
      "metadata": {
        "id": "3-EsdrQ90fGi"
      },
      "source": [
        "In the picture below we can see the chemical structure of **three potential drugs targetting Glutamate carboxipeptidase II** described in the 2019 paper above."
      ]
    },
    {
      "cell_type": "code",
      "execution_count": null,
      "metadata": {
        "id": "6a8lqrZV0fGi"
      },
      "outputs": [],
      "source": [
        "Image(filename=r\"D:\\Projects\\GitHub_drug_discovery\\figures\\candidate_drugs_GCII.jpg\", width=500, height=500) "
      ]
    },
    {
      "cell_type": "code",
      "execution_count": null,
      "metadata": {
        "id": "T_SFnMvF0fGi"
      },
      "outputs": [],
      "source": [
        ""
      ]
    }
  ]
}